{
 "cells": [
  {
   "cell_type": "code",
   "execution_count": 1,
   "metadata": {},
   "outputs": [
    {
     "name": "stdout",
     "output_type": "stream",
     "text": [
      "Collecting gensim\n",
      "  Downloading gensim-3.4.0-cp35-cp35m-manylinux1_x86_64.whl (22.6MB)\n",
      "\u001b[K    100% |################################| 22.6MB 78kB/s  eta 0:00:01\n",
      "\u001b[?25hRequirement already satisfied: six>=1.5.0 in /usr/local/lib/python3.5/dist-packages (from gensim)\n",
      "Requirement already satisfied: numpy>=1.11.3 in /usr/local/lib/python3.5/dist-packages (from gensim)\n",
      "Requirement already satisfied: scipy>=0.18.1 in /usr/local/lib/python3.5/dist-packages (from gensim)\n",
      "Collecting smart-open>=1.2.1 (from gensim)\n",
      "  Downloading smart_open-1.5.7.tar.gz\n",
      "Collecting boto>=2.32 (from smart-open>=1.2.1->gensim)\n",
      "  Downloading boto-2.48.0-py2.py3-none-any.whl (1.4MB)\n",
      "\u001b[K    100% |################################| 1.4MB 1.3MB/s eta 0:00:01\n",
      "\u001b[?25hCollecting bz2file (from smart-open>=1.2.1->gensim)\n",
      "  Downloading bz2file-0.98.tar.gz\n",
      "Collecting requests (from smart-open>=1.2.1->gensim)\n",
      "  Downloading requests-2.18.4-py2.py3-none-any.whl (88kB)\n",
      "\u001b[K    100% |################################| 92kB 13.5MB/s ta 0:00:01\n",
      "\u001b[?25hCollecting boto3 (from smart-open>=1.2.1->gensim)\n",
      "  Downloading boto3-1.7.1-py2.py3-none-any.whl (128kB)\n",
      "\u001b[K    100% |################################| 133kB 10.3MB/s ta 0:00:01\n",
      "\u001b[?25hCollecting idna<2.7,>=2.5 (from requests->smart-open>=1.2.1->gensim)\n",
      "  Downloading idna-2.6-py2.py3-none-any.whl (56kB)\n",
      "\u001b[K    100% |################################| 61kB 13.3MB/s ta 0:00:01\n",
      "\u001b[?25hCollecting certifi>=2017.4.17 (from requests->smart-open>=1.2.1->gensim)\n",
      "  Downloading certifi-2018.1.18-py2.py3-none-any.whl (151kB)\n",
      "\u001b[K    100% |################################| 153kB 7.8MB/s eta 0:00:01\n",
      "\u001b[?25hCollecting chardet<3.1.0,>=3.0.2 (from requests->smart-open>=1.2.1->gensim)\n",
      "  Downloading chardet-3.0.4-py2.py3-none-any.whl (133kB)\n",
      "\u001b[K    100% |################################| 143kB 8.4MB/s eta 0:00:01\n",
      "\u001b[?25hCollecting urllib3<1.23,>=1.21.1 (from requests->smart-open>=1.2.1->gensim)\n",
      "  Downloading urllib3-1.22-py2.py3-none-any.whl (132kB)\n",
      "\u001b[K    100% |################################| 133kB 9.2MB/s eta 0:00:01\n",
      "\u001b[?25hCollecting botocore<1.11.0,>=1.10.1 (from boto3->smart-open>=1.2.1->gensim)\n",
      "  Downloading botocore-1.10.1-py2.py3-none-any.whl (4.2MB)\n",
      "\u001b[K    100% |################################| 4.2MB 441kB/s eta 0:00:01\n",
      "\u001b[?25hCollecting jmespath<1.0.0,>=0.7.1 (from boto3->smart-open>=1.2.1->gensim)\n",
      "  Downloading jmespath-0.9.3-py2.py3-none-any.whl\n",
      "Collecting s3transfer<0.2.0,>=0.1.10 (from boto3->smart-open>=1.2.1->gensim)\n",
      "  Downloading s3transfer-0.1.13-py2.py3-none-any.whl (59kB)\n",
      "\u001b[K    100% |################################| 61kB 13.1MB/s ta 0:00:01\n",
      "\u001b[?25hCollecting docutils>=0.10 (from botocore<1.11.0,>=1.10.1->boto3->smart-open>=1.2.1->gensim)\n",
      "  Downloading docutils-0.14-py3-none-any.whl (543kB)\n",
      "\u001b[K    100% |################################| 552kB 3.2MB/s eta 0:00:01\n",
      "\u001b[?25hRequirement already satisfied: python-dateutil<2.7.0,>=2.1 in /usr/local/lib/python3.5/dist-packages (from botocore<1.11.0,>=1.10.1->boto3->smart-open>=1.2.1->gensim)\n",
      "Building wheels for collected packages: smart-open, bz2file\n",
      "  Running setup.py bdist_wheel for smart-open ... \u001b[?25ldone\n",
      "\u001b[?25h  Stored in directory: /root/.cache/pip/wheels/cf/54/36/b003d8c2d26aadffc21f0677009ed53cf9575a97fc71fbba76\n",
      "  Running setup.py bdist_wheel for bz2file ... \u001b[?25ldone\n",
      "\u001b[?25h  Stored in directory: /root/.cache/pip/wheels/31/9c/20/996d65ca104cbca940b1b053299b68459391c01c774d073126\n",
      "Successfully built smart-open bz2file\n",
      "Installing collected packages: boto, bz2file, idna, certifi, chardet, urllib3, requests, docutils, jmespath, botocore, s3transfer, boto3, smart-open, gensim\n",
      "Successfully installed boto-2.48.0 boto3-1.7.1 botocore-1.10.1 bz2file-0.98 certifi-2018.1.18 chardet-3.0.4 docutils-0.14 gensim-3.4.0 idna-2.6 jmespath-0.9.3 requests-2.18.4 s3transfer-0.1.13 smart-open-1.5.7 urllib3-1.22\n",
      "\u001b[33mYou are using pip version 9.0.1, however version 9.0.3 is available.\n",
      "You should consider upgrading via the 'pip install --upgrade pip' command.\u001b[0m\n"
     ]
    }
   ],
   "source": [
    "!pip install gensim"
   ]
  },
  {
   "cell_type": "code",
   "execution_count": 2,
   "metadata": {},
   "outputs": [
    {
     "name": "stdout",
     "output_type": "stream",
     "text": [
      "Collecting nltk\n",
      "  Downloading nltk-3.2.5.tar.gz (1.2MB)\n",
      "\u001b[K    100% |################################| 1.2MB 1.3MB/s eta 0:00:01\n",
      "\u001b[?25hRequirement already satisfied: six in /usr/local/lib/python3.5/dist-packages (from nltk)\n",
      "Building wheels for collected packages: nltk\n",
      "  Running setup.py bdist_wheel for nltk ... \u001b[?25ldone\n",
      "\u001b[?25h  Stored in directory: /root/.cache/pip/wheels/18/9c/1f/276bc3f421614062468cb1c9d695e6086d0c73d67ea363c501\n",
      "Successfully built nltk\n",
      "Installing collected packages: nltk\n",
      "Successfully installed nltk-3.2.5\n",
      "\u001b[33mYou are using pip version 9.0.1, however version 9.0.3 is available.\n",
      "You should consider upgrading via the 'pip install --upgrade pip' command.\u001b[0m\n"
     ]
    }
   ],
   "source": [
    "!pip install nltk"
   ]
  },
  {
   "cell_type": "code",
   "execution_count": 3,
   "metadata": {},
   "outputs": [
    {
     "name": "stdout",
     "output_type": "stream",
     "text": [
      "Collecting keras\n",
      "  Downloading Keras-2.1.5-py2.py3-none-any.whl (334kB)\n",
      "\u001b[K    100% |################################| 337kB 3.2MB/s ta 0:00:01\n",
      "\u001b[?25hRequirement already satisfied: numpy>=1.9.1 in /usr/local/lib/python3.5/dist-packages (from keras)\n",
      "Requirement already satisfied: six>=1.9.0 in /usr/local/lib/python3.5/dist-packages (from keras)\n",
      "Requirement already satisfied: scipy>=0.14 in /usr/local/lib/python3.5/dist-packages (from keras)\n",
      "Collecting pyyaml (from keras)\n",
      "  Downloading PyYAML-3.12.tar.gz (253kB)\n",
      "\u001b[K    100% |################################| 256kB 4.0MB/s ta 0:00:01\n",
      "\u001b[?25hBuilding wheels for collected packages: pyyaml\n",
      "  Running setup.py bdist_wheel for pyyaml ... \u001b[?25ldone\n",
      "\u001b[?25h  Stored in directory: /root/.cache/pip/wheels/2c/f7/79/13f3a12cd723892437c0cfbde1230ab4d82947ff7b3839a4fc\n",
      "Successfully built pyyaml\n",
      "Installing collected packages: pyyaml, keras\n",
      "Successfully installed keras-2.1.5 pyyaml-3.12\n",
      "\u001b[33mYou are using pip version 9.0.1, however version 9.0.3 is available.\n",
      "You should consider upgrading via the 'pip install --upgrade pip' command.\u001b[0m\n"
     ]
    }
   ],
   "source": [
    "!pip install keras"
   ]
  },
  {
   "cell_type": "code",
   "execution_count": 4,
   "metadata": {},
   "outputs": [
    {
     "name": "stdout",
     "output_type": "stream",
     "text": [
      "Collecting tqdm\n",
      "  Downloading tqdm-4.20.0-py2.py3-none-any.whl (41kB)\n",
      "\u001b[K    100% |################################| 51kB 3.7MB/s ta 0:00:011\n",
      "\u001b[?25hInstalling collected packages: tqdm\n",
      "Successfully installed tqdm-4.20.0\n",
      "\u001b[33mYou are using pip version 9.0.1, however version 9.0.3 is available.\n",
      "You should consider upgrading via the 'pip install --upgrade pip' command.\u001b[0m\n"
     ]
    }
   ],
   "source": [
    "!pip install tqdm"
   ]
  },
  {
   "cell_type": "code",
   "execution_count": 5,
   "metadata": {
    "colab": {
     "autoexec": {
      "startup": false,
      "wait_interval": 0
     },
     "base_uri": "https://localhost:8080/",
     "height": 34,
     "output_extras": [
      {
       "item_id": 1
      }
     ]
    },
    "colab_type": "code",
    "executionInfo": {
     "elapsed": 8367,
     "status": "ok",
     "timestamp": 1522757813745,
     "user": {
      "displayName": "Aumkar Lele",
      "photoUrl": "//lh6.googleusercontent.com/-XrZlMNdy-5g/AAAAAAAAAAI/AAAAAAAAAFE/5G1K2IfrEnM/s50-c-k-no/photo.jpg",
      "userId": "105393215524846208689"
     },
     "user_tz": -120
    },
    "id": "6e6qn6QPLLWk",
    "outputId": "3b985f5d-efd7-464e-8623-8df424926eae"
   },
   "outputs": [
    {
     "name": "stderr",
     "output_type": "stream",
     "text": [
      "/usr/local/lib/python3.5/dist-packages/h5py/__init__.py:36: FutureWarning: Conversion of the second argument of issubdtype from `float` to `np.floating` is deprecated. In future, it will be treated as `np.float64 == np.dtype(float).type`.\n",
      "  from ._conv import register_converters as _register_converters\n",
      "Using TensorFlow backend.\n"
     ]
    }
   ],
   "source": [
    "import re\n",
    "import json\n",
    "import fileinput\n",
    "import pandas as pd\n",
    "import gensim\n",
    "import numpy as np\n",
    "import nltk\n",
    "import os\n",
    "import random\n",
    "import sklearn.metrics\n",
    "import sklearn.model_selection\n",
    "from sklearn.manifold import TSNE\n",
    "import sklearn.datasets\n",
    "import matplotlib.pyplot as plt\n",
    "from keras.models import Sequential\n",
    "from keras.layers import Dense\n",
    "from sklearn.model_selection import train_test_split\n",
    "from sklearn.svm import SVC\n",
    "from gensim.models.word2vec import Word2Vec\n",
    "from nltk.corpus import stopwords\n",
    "from nltk.tokenize import wordpunct_tokenize, sent_tokenize, TweetTokenizer\n",
    "from tqdm import tqdm\n",
    "from sklearn.feature_extraction.text import TfidfVectorizer\n",
    "from sklearn.preprocessing import scale\n",
    "from sklearn.preprocessing import LabelEncoder\n",
    "from sklearn.metrics import roc_curve, auc, confusion_matrix\n",
    "from keras.wrappers.scikit_learn import KerasClassifier\n",
    "from sklearn.model_selection import cross_val_score\n",
    "from sklearn.model_selection import KFold"
   ]
  },
  {
   "cell_type": "code",
   "execution_count": 6,
   "metadata": {
    "colab": {
     "autoexec": {
      "startup": false,
      "wait_interval": 0
     }
    },
    "colab_type": "code",
    "id": "12Edu4u0lUDf"
   },
   "outputs": [],
   "source": [
    "seed = 7\n",
    "np.random.seed(seed)"
   ]
  },
  {
   "cell_type": "code",
   "execution_count": 7,
   "metadata": {
    "colab": {
     "autoexec": {
      "startup": false,
      "wait_interval": 0
     }
    },
    "colab_type": "code",
    "id": "tsjMW3E5TlMY"
   },
   "outputs": [],
   "source": [
    "df = pd.read_csv('train_labeled_data.csv', encoding='ISO-8859-1', header = None)"
   ]
  },
  {
   "cell_type": "code",
   "execution_count": 8,
   "metadata": {
    "colab": {
     "autoexec": {
      "startup": false,
      "wait_interval": 0
     }
    },
    "colab_type": "code",
    "id": "Stv5qD_HUYnT"
   },
   "outputs": [],
   "source": [
    "df.columns = [\"sentiment_label\", \"tweet_id\", \"date\", \"flag\", \"user\", \"tweet\"]"
   ]
  },
  {
   "cell_type": "code",
   "execution_count": 9,
   "metadata": {
    "colab": {
     "autoexec": {
      "startup": false,
      "wait_interval": 0
     }
    },
    "colab_type": "code",
    "id": "TU2QHOMyUaRu"
   },
   "outputs": [],
   "source": [
    "df.drop(['tweet_id', 'date', 'flag', 'user'], axis=1, inplace=True)"
   ]
  },
  {
   "cell_type": "code",
   "execution_count": 10,
   "metadata": {
    "colab": {
     "autoexec": {
      "startup": false,
      "wait_interval": 0
     }
    },
    "colab_type": "code",
    "id": "LEYOxb_JUcOf"
   },
   "outputs": [],
   "source": [
    "df1 = df[df.sentiment_label.isnull() == False]"
   ]
  },
  {
   "cell_type": "code",
   "execution_count": 11,
   "metadata": {
    "colab": {
     "autoexec": {
      "startup": false,
      "wait_interval": 0
     }
    },
    "colab_type": "code",
    "id": "HA9QbFTKUd-h"
   },
   "outputs": [],
   "source": [
    "df1 = df[df.tweet.isnull() == False]"
   ]
  },
  {
   "cell_type": "code",
   "execution_count": 12,
   "metadata": {
    "colab": {
     "autoexec": {
      "startup": false,
      "wait_interval": 0
     }
    },
    "colab_type": "code",
    "id": "6o5c47AGUgAa"
   },
   "outputs": [],
   "source": [
    "df1.reset_index(inplace=True)"
   ]
  },
  {
   "cell_type": "code",
   "execution_count": 13,
   "metadata": {
    "colab": {
     "autoexec": {
      "startup": false,
      "wait_interval": 0
     }
    },
    "colab_type": "code",
    "id": "sTdmmpO_UiKD"
   },
   "outputs": [],
   "source": [
    "df1.drop('index', axis=1, inplace=True)"
   ]
  },
  {
   "cell_type": "code",
   "execution_count": 14,
   "metadata": {
    "colab": {
     "autoexec": {
      "startup": false,
      "wait_interval": 0
     }
    },
    "colab_type": "code",
    "id": "B1nc4dalUlHR"
   },
   "outputs": [],
   "source": [
    "df1['sentiment_label'] = df1['sentiment_label'].map( {4:1, 0:0} )"
   ]
  },
  {
   "cell_type": "code",
   "execution_count": 15,
   "metadata": {
    "colab": {
     "autoexec": {
      "startup": false,
      "wait_interval": 0
     }
    },
    "colab_type": "code",
    "id": "Tx_O_JsWUm5-"
   },
   "outputs": [],
   "source": [
    "# Extract features from a given text\n",
    "def extract_tokens(text):\n",
    "    tokenizer = TweetTokenizer()\n",
    "    tokens = tokenizer.tokenize(text)\n",
    "    tokens = list(filter(lambda t: not t.startswith('@'), tokens))\n",
    "    tokens = list(filter(lambda t: not t.startswith('#'), tokens))\n",
    "    tokens = list(filter(lambda t: not t.startswith('http'), tokens))\n",
    "    \n",
    "    return tokens"
   ]
  },
  {
   "cell_type": "code",
   "execution_count": 16,
   "metadata": {
    "colab": {
     "autoexec": {
      "startup": false,
      "wait_interval": 0
     }
    },
    "colab_type": "code",
    "id": "axkF7GPmUprF"
   },
   "outputs": [],
   "source": [
    "def data_process(data):\n",
    "    data['tokens'] = data['tweet'].map(extract_tokens)\n",
    "    \n",
    "    return data"
   ]
  },
  {
   "cell_type": "code",
   "execution_count": 17,
   "metadata": {
    "colab": {
     "autoexec": {
      "startup": false,
      "wait_interval": 0
     }
    },
    "colab_type": "code",
    "id": "_C5ewmA9Uuan"
   },
   "outputs": [],
   "source": [
    "df1 = data_process(df1)"
   ]
  },
  {
   "cell_type": "code",
   "execution_count": 18,
   "metadata": {
    "colab": {
     "autoexec": {
      "startup": false,
      "wait_interval": 0
     }
    },
    "colab_type": "code",
    "id": "sjmiVNvRUxQk"
   },
   "outputs": [],
   "source": [
    "df1 = df1[df1.tokens != 'NC']\n",
    "df1.reset_index(inplace=True)\n",
    "df1.drop('index', inplace=True, axis=1)"
   ]
  },
  {
   "cell_type": "code",
   "execution_count": 19,
   "metadata": {
    "colab": {
     "autoexec": {
      "startup": false,
      "wait_interval": 0
     }
    },
    "colab_type": "code",
    "id": "trb8VSRsU1FR"
   },
   "outputs": [],
   "source": [
    "x_train, x_test, y_train, y_test = train_test_split(np.array(df1.tokens), np.array(df1.sentiment_label), test_size=0.2)"
   ]
  },
  {
   "cell_type": "code",
   "execution_count": 20,
   "metadata": {
    "colab": {
     "autoexec": {
      "startup": false,
      "wait_interval": 0
     }
    },
    "colab_type": "code",
    "id": "IX4Wqr24VKPE"
   },
   "outputs": [],
   "source": [
    "lsentence = gensim.models.doc2vec.LabeledSentence"
   ]
  },
  {
   "cell_type": "code",
   "execution_count": 21,
   "metadata": {
    "colab": {
     "autoexec": {
      "startup": false,
      "wait_interval": 0
     }
    },
    "colab_type": "code",
    "id": "4HpTLYItVOHp"
   },
   "outputs": [],
   "source": [
    "def label_tweets(text, ltype):\n",
    "    labelized = []\n",
    "    for i,v in tqdm(enumerate(text)):\n",
    "        label = '%s_%s'%(ltype,i)\n",
    "        labelized.append(lsentence(v, [label]))\n",
    "    return labelized"
   ]
  },
  {
   "cell_type": "code",
   "execution_count": 22,
   "metadata": {
    "colab": {
     "autoexec": {
      "startup": false,
      "wait_interval": 0
     },
     "base_uri": "https://localhost:8080/",
     "height": 106,
     "output_extras": [
      {
       "item_id": 35
      }
     ]
    },
    "colab_type": "code",
    "executionInfo": {
     "elapsed": 13731,
     "status": "ok",
     "timestamp": 1522760091372,
     "user": {
      "displayName": "Aumkar Lele",
      "photoUrl": "//lh6.googleusercontent.com/-XrZlMNdy-5g/AAAAAAAAAAI/AAAAAAAAAFE/5G1K2IfrEnM/s50-c-k-no/photo.jpg",
      "userId": "105393215524846208689"
     },
     "user_tz": -120
    },
    "id": "GQ4PZEOrVQG5",
    "outputId": "95740719-e7ca-4783-dd91-a380eb7c61ca"
   },
   "outputs": [
    {
     "name": "stderr",
     "output_type": "stream",
     "text": [
      "0it [00:00, ?it/s]/usr/local/lib/python3.5/dist-packages/ipykernel_launcher.py:5: DeprecationWarning: Call to deprecated `LabeledSentence` (Class will be removed in 4.0.0, use TaggedDocument instead).\n",
      "  \"\"\"\n",
      "1280000it [00:09, 140219.37it/s]\n",
      "320000it [00:02, 113345.04it/s]\n"
     ]
    }
   ],
   "source": [
    "x_train = label_tweets(x_train, 'TRAIN')\n",
    "x_test = label_tweets(x_test, 'TEST')"
   ]
  },
  {
   "cell_type": "code",
   "execution_count": 23,
   "metadata": {
    "colab": {
     "autoexec": {
      "startup": false,
      "wait_interval": 0
     },
     "base_uri": "https://localhost:8080/",
     "height": 54,
     "output_extras": [
      {
       "item_id": 1
      }
     ]
    },
    "colab_type": "code",
    "executionInfo": {
     "elapsed": 468,
     "status": "ok",
     "timestamp": 1522760092072,
     "user": {
      "displayName": "Aumkar Lele",
      "photoUrl": "//lh6.googleusercontent.com/-XrZlMNdy-5g/AAAAAAAAAAI/AAAAAAAAAFE/5G1K2IfrEnM/s50-c-k-no/photo.jpg",
      "userId": "105393215524846208689"
     },
     "user_tz": -120
    },
    "id": "p8SCDNqdVSQC",
    "outputId": "b1860a26-dc61-4222-9cb0-c1bab3011d7d"
   },
   "outputs": [
    {
     "data": {
      "text/plain": [
       "LabeledSentence(words=['i', 'need', 'friends'], tags=['TRAIN_0'])"
      ]
     },
     "execution_count": 23,
     "metadata": {},
     "output_type": "execute_result"
    }
   ],
   "source": [
    "x_train[0]"
   ]
  },
  {
   "cell_type": "code",
   "execution_count": 24,
   "metadata": {
    "colab": {
     "autoexec": {
      "startup": false,
      "wait_interval": 0
     }
    },
    "colab_type": "code",
    "id": "d-leB5R2VXJ_"
   },
   "outputs": [],
   "source": [
    "n_dim = 500"
   ]
  },
  {
   "cell_type": "code",
   "execution_count": 25,
   "metadata": {
    "colab": {
     "autoexec": {
      "startup": false,
      "wait_interval": 0
     },
     "base_uri": "https://localhost:8080/",
     "height": 124,
     "output_extras": [
      {
       "item_id": 8
      },
      {
       "item_id": 9
      }
     ]
    },
    "colab_type": "code",
    "executionInfo": {
     "elapsed": 249209,
     "status": "ok",
     "timestamp": 1522760346047,
     "user": {
      "displayName": "Aumkar Lele",
      "photoUrl": "//lh6.googleusercontent.com/-XrZlMNdy-5g/AAAAAAAAAAI/AAAAAAAAAFE/5G1K2IfrEnM/s50-c-k-no/photo.jpg",
      "userId": "105393215524846208689"
     },
     "user_tz": -120
    },
    "id": "gcB7sSBKVbJT",
    "outputId": "b58d6aac-6a48-49cd-93ff-6c37b0943d82"
   },
   "outputs": [
    {
     "name": "stderr",
     "output_type": "stream",
     "text": [
      "100%|██████████| 1280000/1280000 [00:00<00:00, 1397524.85it/s]\n",
      "100%|██████████| 1280000/1280000 [00:00<00:00, 1404857.82it/s]\n",
      "/usr/local/lib/python3.5/dist-packages/ipykernel_launcher.py:3: DeprecationWarning: Call to deprecated `iter` (Attribute will be removed in 4.0.0, use self.epochs instead).\n",
      "  This is separate from the ipykernel package so we can avoid doing imports until\n"
     ]
    },
    {
     "data": {
      "text/plain": [
       "(69388646, 94161350)"
      ]
     },
     "execution_count": 25,
     "metadata": {},
     "output_type": "execute_result"
    }
   ],
   "source": [
    "w2v_model = Word2Vec(size=n_dim, min_count=10)\n",
    "w2v_model.build_vocab([x.words for x in tqdm(x_train)])\n",
    "w2v_model.train([x.words for x in tqdm(x_train)], total_examples = w2v_model.corpus_count, epochs = w2v_model.iter )"
   ]
  },
  {
   "cell_type": "code",
   "execution_count": 26,
   "metadata": {
    "colab": {
     "autoexec": {
      "startup": false,
      "wait_interval": 0
     },
     "base_uri": "https://localhost:8080/",
     "height": 245,
     "output_extras": [
      {
       "item_id": 1
      },
      {
       "item_id": 2
      }
     ]
    },
    "colab_type": "code",
    "executionInfo": {
     "elapsed": 511,
     "status": "ok",
     "timestamp": 1522760346609,
     "user": {
      "displayName": "Aumkar Lele",
      "photoUrl": "//lh6.googleusercontent.com/-XrZlMNdy-5g/AAAAAAAAAAI/AAAAAAAAAFE/5G1K2IfrEnM/s50-c-k-no/photo.jpg",
      "userId": "105393215524846208689"
     },
     "user_tz": -120
    },
    "id": "H3ciikIMVdvS",
    "outputId": "76e0085a-444a-41f9-8b03-498d8d918beb"
   },
   "outputs": [
    {
     "name": "stderr",
     "output_type": "stream",
     "text": [
      "/usr/local/lib/python3.5/dist-packages/ipykernel_launcher.py:1: DeprecationWarning: Call to deprecated `most_similar` (Method will be removed in 4.0.0, use self.wv.most_similar() instead).\n",
      "  \"\"\"Entry point for launching an IPython kernel.\n"
     ]
    },
    {
     "data": {
      "text/plain": [
       "[('great', 0.7373624444007874),\n",
       " ('goood', 0.7336056232452393),\n",
       " ('rough', 0.6671867370605469),\n",
       " ('goooood', 0.6581369042396545),\n",
       " ('fab', 0.6456925868988037),\n",
       " ('nice', 0.6389963626861572),\n",
       " ('tough', 0.638160228729248),\n",
       " ('gooood', 0.6375186443328857),\n",
       " ('fantastic', 0.6268146634101868),\n",
       " ('terrible', 0.6239801645278931)]"
      ]
     },
     "execution_count": 26,
     "metadata": {},
     "output_type": "execute_result"
    }
   ],
   "source": [
    "w2v_model.most_similar('good')"
   ]
  },
  {
   "cell_type": "code",
   "execution_count": 27,
   "metadata": {
    "colab": {
     "autoexec": {
      "startup": false,
      "wait_interval": 0
     }
    },
    "colab_type": "code",
    "id": "YhIfanKHViov"
   },
   "outputs": [],
   "source": [
    "def tsne_plot(model):\n",
    "    \"Creates and TSNE model and plots it\"\n",
    "    labels = []\n",
    "    tokens = []\n",
    "\n",
    "    for word in model.wv.vocab:\n",
    "        tokens.append(model[word])\n",
    "        labels.append(word)\n",
    "    \n",
    "    tsne_model = TSNE(perplexity=40, n_components=2, init='pca', n_iter=2500, random_state=23)\n",
    "    new_values = tsne_model.fit_transform(tokens[:100])\n",
    "\n",
    "    x = []\n",
    "    y = []\n",
    "    for value in new_values:\n",
    "        x.append(value[0])\n",
    "        y.append(value[1])\n",
    "        \n",
    "    plt.figure(figsize=(16, 16)) \n",
    "    for i in range(len(x)):\n",
    "        plt.scatter(x[i],y[i])\n",
    "        plt.annotate(labels[i],\n",
    "                     xy=(x[i], y[i]),\n",
    "                     xytext=(5, 2),\n",
    "                     textcoords='offset points',\n",
    "                     ha='right',\n",
    "                     va='bottom')\n",
    "    plt.show()"
   ]
  },
  {
   "cell_type": "code",
   "execution_count": 28,
   "metadata": {
    "colab": {
     "autoexec": {
      "startup": false,
      "wait_interval": 0
     },
     "base_uri": "https://localhost:8080/",
     "height": 973,
     "output_extras": [
      {
       "item_id": 1
      },
      {
       "item_id": 2
      }
     ]
    },
    "colab_type": "code",
    "executionInfo": {
     "elapsed": 8199,
     "status": "ok",
     "timestamp": 1522497279005,
     "user": {
      "displayName": "Aumkar Lele",
      "photoUrl": "//lh6.googleusercontent.com/-XrZlMNdy-5g/AAAAAAAAAAI/AAAAAAAAAFE/5G1K2IfrEnM/s50-c-k-no/photo.jpg",
      "userId": "105393215524846208689"
     },
     "user_tz": -120
    },
    "id": "0BFTZSrMVlhr",
    "outputId": "1e9a4bfe-1b16-498c-92af-ec7634059f97"
   },
   "outputs": [
    {
     "name": "stderr",
     "output_type": "stream",
     "text": [
      "/usr/local/lib/python3.5/dist-packages/ipykernel_launcher.py:7: DeprecationWarning: Call to deprecated `__getitem__` (Method will be removed in 4.0.0, use self.wv.__getitem__() instead).\n",
      "  import sys\n"
     ]
    },
    {
     "data": {
      "image/png": "[encoded data removed]",
      "text/plain": [
       "<matplotlib.figure.Figure at 0x7fc914ae4400>"
      ]
     },
     "metadata": {},
     "output_type": "display_data"
    }
   ],
   "source": [
    "tsne_plot(w2v_model)"
   ]
  },
  {
   "cell_type": "code",
   "execution_count": 29,
   "metadata": {
    "colab": {
     "autoexec": {
      "startup": false,
      "wait_interval": 0
     }
    },
    "colab_type": "code",
    "id": "ylAHs-HQWHM1"
   },
   "outputs": [],
   "source": [
    "build_matrix = TfidfVectorizer(analyzer=lambda x: x, min_df=10)\n",
    "tfidf_matrix = build_matrix.fit_transform([x.words for x in x_train])\n",
    "tfidf = dict(zip(build_matrix.get_feature_names(), build_matrix.idf_))"
   ]
  },
  {
   "cell_type": "code",
   "execution_count": 30,
   "metadata": {
    "colab": {
     "autoexec": {
      "startup": false,
      "wait_interval": 0
     }
    },
    "colab_type": "code",
    "id": "bqML-myiWnj_"
   },
   "outputs": [],
   "source": [
    "def buildWordVector(tokens, size):\n",
    "    vec = np.zeros(size).reshape((1, size))\n",
    "    count = 0.\n",
    "    for word in tokens:\n",
    "        try:\n",
    "            vec += w2v_model[word].reshape((1, size)) * tfidf[word]\n",
    "            count += 1.\n",
    "        except KeyError: # handling the case where the token is not\n",
    "                         # in the corpus. useful for testing.\n",
    "            continue\n",
    "    if count != 0:\n",
    "        vec /= count\n",
    "    return vec"
   ]
  },
  {
   "cell_type": "code",
   "execution_count": 31,
   "metadata": {
    "colab": {
     "autoexec": {
      "startup": false,
      "wait_interval": 0
     },
     "base_uri": "https://localhost:8080/",
     "height": 89,
     "output_extras": [
      {
       "item_id": 65
      },
      {
       "item_id": 456
      }
     ]
    },
    "colab_type": "code",
    "id": "xvI0WY-2WqS0",
    "outputId": "dc9e6e11-1a97-406b-a18c-67bc3ffe730d"
   },
   "outputs": [
    {
     "name": "stderr",
     "output_type": "stream",
     "text": [
      "0it [00:00, ?it/s]/usr/local/lib/python3.5/dist-packages/ipykernel_launcher.py:6: DeprecationWarning: Call to deprecated `__getitem__` (Method will be removed in 4.0.0, use self.wv.__getitem__() instead).\n",
      "  \n",
      "1280000it [03:53, 5485.43it/s]\n",
      "320000it [00:58, 5457.58it/s]\n"
     ]
    }
   ],
   "source": [
    "train_vecs_w2v = np.concatenate([buildWordVector(z, n_dim) for z in tqdm(map(lambda x: x.words, x_train))])\n",
    "train_vecs_w2v = scale(train_vecs_w2v)\n",
    "\n",
    "test_vecs_w2v = np.concatenate([buildWordVector(z, n_dim) for z in tqdm(map(lambda x: x.words, x_test))])\n",
    "test_vecs_w2v = scale(test_vecs_w2v)"
   ]
  },
  {
   "cell_type": "code",
   "execution_count": 32,
   "metadata": {
    "colab": {
     "autoexec": {
      "startup": false,
      "wait_interval": 0
     }
    },
    "colab_type": "code",
    "id": "3P2Aaz41W_KQ"
   },
   "outputs": [],
   "source": [
    "def classifier_model():\n",
    "    model = Sequential()\n",
    "    model.add(Dense(32, activation='relu', input_dim=500))\n",
    "    model.add(Dense(1, activation='sigmoid'))\n",
    "    model.compile(optimizer='rmsprop', loss='binary_crossentropy', metrics=['accuracy'])\n",
    "  \n",
    "    return model\n",
    "\n",
    "#model.fit(train_vecs_w2v, train_vecs_w2v, validation_split=0.33, epochs=9, batch_size=32, verbose=2)"
   ]
  },
  {
   "cell_type": "code",
   "execution_count": 33,
   "metadata": {
    "colab": {
     "autoexec": {
      "startup": false,
      "wait_interval": 0
     },
     "base_uri": "https://localhost:8080/",
     "height": 166,
     "output_extras": [
      {
       "item_id": 1
      }
     ]
    },
    "colab_type": "code",
    "executionInfo": {
     "elapsed": 528,
     "status": "error",
     "timestamp": 1522497715302,
     "user": {
      "displayName": "Aumkar Lele",
      "photoUrl": "//lh6.googleusercontent.com/-XrZlMNdy-5g/AAAAAAAAAAI/AAAAAAAAAFE/5G1K2IfrEnM/s50-c-k-no/photo.jpg",
      "userId": "105393215524846208689"
     },
     "user_tz": -120
    },
    "id": "28iSXrKqk3X-",
    "outputId": "96363da2-98fe-4320-c388-2a2277def14a"
   },
   "outputs": [],
   "source": [
    "estimator = KerasClassifier(build_fn=classifier_model, epochs=4, batch_size=32, verbose=2)"
   ]
  },
  {
   "cell_type": "code",
   "execution_count": 34,
   "metadata": {
    "colab": {
     "autoexec": {
      "startup": false,
      "wait_interval": 0
     }
    },
    "colab_type": "code",
    "id": "JgCXI1ZGlIAl"
   },
   "outputs": [],
   "source": [
    "kfold = KFold(n_splits=5, shuffle=True, random_state=seed)"
   ]
  },
  {
   "cell_type": "code",
   "execution_count": 35,
   "metadata": {
    "colab": {
     "autoexec": {
      "startup": false,
      "wait_interval": 0
     },
     "base_uri": "https://localhost:8080/",
     "height": 183,
     "output_extras": [
      {
       "item_id": 1
      }
     ]
    },
    "colab_type": "code",
    "executionInfo": {
     "elapsed": 582,
     "status": "error",
     "timestamp": 1522495038086,
     "user": {
      "displayName": "Aumkar Lele",
      "photoUrl": "//lh6.googleusercontent.com/-XrZlMNdy-5g/AAAAAAAAAAI/AAAAAAAAAFE/5G1K2IfrEnM/s50-c-k-no/photo.jpg",
      "userId": "105393215524846208689"
     },
     "user_tz": -120
    },
    "id": "p5bcRXXGlZEU",
    "outputId": "74f432d6-24f3-4a63-ae30-7165c69b6987",
    "scrolled": true
   },
   "outputs": [
    {
     "name": "stdout",
     "output_type": "stream",
     "text": [
      "Epoch 1/4\n",
      " - 89s - loss: 0.4611 - acc: 0.7824\n",
      "Epoch 2/4\n",
      " - 87s - loss: 0.4479 - acc: 0.7903\n",
      "Epoch 3/4\n",
      " - 87s - loss: 0.4436 - acc: 0.7929\n",
      "Epoch 4/4\n",
      " - 86s - loss: 0.4415 - acc: 0.7940\n",
      "Epoch 1/4\n",
      " - 88s - loss: 0.4611 - acc: 0.7821\n",
      "Epoch 2/4\n",
      " - 89s - loss: 0.4478 - acc: 0.7903\n",
      "Epoch 3/4\n",
      " - 88s - loss: 0.4439 - acc: 0.7927\n",
      "Epoch 4/4\n",
      " - 86s - loss: 0.4416 - acc: 0.7938\n",
      "Epoch 1/4\n",
      " - 87s - loss: 0.4607 - acc: 0.7831\n",
      "Epoch 2/4\n",
      " - 87s - loss: 0.4474 - acc: 0.7904\n",
      "Epoch 3/4\n",
      " - 88s - loss: 0.4434 - acc: 0.7929\n",
      "Epoch 4/4\n",
      " - 88s - loss: 0.4409 - acc: 0.7943\n",
      "Epoch 1/4\n",
      " - 89s - loss: 0.4606 - acc: 0.7826\n",
      "Epoch 2/4\n",
      " - 89s - loss: 0.4477 - acc: 0.7905\n",
      "Epoch 3/4\n",
      " - 86s - loss: 0.4437 - acc: 0.7928\n",
      "Epoch 4/4\n",
      " - 87s - loss: 0.4414 - acc: 0.7945\n",
      "Epoch 1/4\n",
      " - 88s - loss: 0.4611 - acc: 0.7821\n",
      "Epoch 2/4\n",
      " - 88s - loss: 0.4474 - acc: 0.7906\n",
      "Epoch 3/4\n",
      " - 88s - loss: 0.4436 - acc: 0.7927\n",
      "Epoch 4/4\n",
      " - 88s - loss: 0.4413 - acc: 0.7943\n",
      "Model: 79.24% (0.09%)\n"
     ]
    }
   ],
   "source": [
    "results = cross_val_score(estimator, train_vecs_w2v, y_train, cv=kfold)\n",
    "print(\"Model: %.2f%% (%.2f%%)\" % (results.mean()*100, results.std()*100))"
   ]
  }
 ],
 "metadata": {
  "accelerator": "GPU",
  "colab": {
   "collapsed_sections": [],
   "default_view": {},
   "name": "word2vec_sent_analysis_colab.ipynb",
   "provenance": [],
   "version": "0.3.2",
   "views": {}
  },
  "kernelspec": {
   "display_name": "Python 3",
   "language": "python",
   "name": "python3"
  },
  "language_info": {
   "codemirror_mode": {
    "name": "ipython",
    "version": 3
   },
   "file_extension": ".py",
   "mimetype": "text/x-python",
   "name": "python",
   "nbconvert_exporter": "python",
   "pygments_lexer": "ipython3",
   "version": "3.5.2"
  }
 },
 "nbformat": 4,
 "nbformat_minor": 1
}
